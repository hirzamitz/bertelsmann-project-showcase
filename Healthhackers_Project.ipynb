{
  "nbformat": 4,
  "nbformat_minor": 0,
  "metadata": {
    "colab": {
      "name": "Healthhackers_Project.ipynb",
      "version": "0.3.2",
      "views": {},
      "default_view": {},
      "provenance": [],
      "collapsed_sections": [],
      "toc_visible": true
    },
    "kernelspec": {
      "name": "python3",
      "display_name": "Python 3"
    }
  },
  "cells": [
    {
      "metadata": {
        "id": "rtKiy5VvQnYb",
        "colab_type": "text"
      },
      "cell_type": "markdown",
      "source": [
        "# Udacity Bertelsmann Data Science Challenge\n",
        "\n",
        "---\n",
        "\n",
        "\n",
        "\n",
        "This Jupyter notebook is used by the HealthHackers group to collaborate on the Python code for classifying patients into risk groups for the Bertelsmann-Udacity Project Showcase Challenge.\n",
        "\n",
        "\n",
        "## Python Implementation\n",
        "\n",
        "---\n",
        "\n",
        "\n",
        "\n",
        "**1. Upload the dataset from your local drive**\n",
        "\n",
        "\n",
        "\n"
      ]
    },
    {
      "metadata": {
        "id": "o0YnWN6FQs1q",
        "colab_type": "code",
        "colab": {
          "autoexec": {
            "startup": false,
            "wait_interval": 0
          },
          "resources": {
            "http://localhost:8080/nbextensions/google.colab/files.js": {
              "data": "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",
              "ok": true,
              "headers": [
                [
                  "content-type",
                  "application/javascript"
                ]
              ],
              "status": 200,
              "status_text": ""
            }
          },
          "base_uri": "https://localhost:8080/",
          "height": 86
        },
        "outputId": "0f3c2691-8d82-4c9e-cf02-b9b8c61d6e87",
        "executionInfo": {
          "status": "ok",
          "timestamp": 1532758492590,
          "user_tz": 240,
          "elapsed": 7139,
          "user": {
            "displayName": "H Pimentel",
            "photoUrl": "//lh6.googleusercontent.com/-YCk_xKgRbn4/AAAAAAAAAAI/AAAAAAAAAAc/lIQpuICTR1c/s50-c-k-no/photo.jpg",
            "userId": "101239967649186834849"
          }
        }
      },
      "cell_type": "code",
      "source": [
        "'''\n",
        "Load proj_two_data.csv from your local drive\n",
        "'''\n",
        "\n",
        "from google.colab import files\n",
        "\n",
        "uploaded = files.upload()\n",
        "\n",
        "for fn in uploaded.keys():\n",
        "  print('User uploaded file \"{name}\" with length {length} bytes'.format(\n",
        "      name=fn, length=len(uploaded[fn])))"
      ],
      "execution_count": 1,
      "outputs": [
        {
          "output_type": "display_data",
          "data": {
            "text/html": [
              "\n",
              "     <input type=\"file\" id=\"files-884dd8e7-71c4-45b6-9fe1-c1d36b366e72\" name=\"files[]\" multiple disabled />\n",
              "     <output id=\"result-884dd8e7-71c4-45b6-9fe1-c1d36b366e72\">\n",
              "      Upload widget is only available when the cell has been executed in the\n",
              "      current browser session. Please rerun this cell to enable.\n",
              "      </output>\n",
              "      <script src=\"/nbextensions/google.colab/files.js\"></script> "
            ],
            "text/plain": [
              "<IPython.core.display.HTML object>"
            ]
          },
          "metadata": {
            "tags": []
          }
        },
        {
          "output_type": "stream",
          "text": [
            "Saving proj_two_data.csv to proj_two_data.csv\n",
            "User uploaded file \"proj_two_data.csv\" with length 32760 bytes\n"
          ],
          "name": "stdout"
        }
      ]
    },
    {
      "metadata": {
        "id": "5C5c-tZ2Vwpt",
        "colab_type": "text"
      },
      "cell_type": "markdown",
      "source": [
        "**2. Load the CSV file into data structure**"
      ]
    },
    {
      "metadata": {
        "id": "wSG7BB-1XhT1",
        "colab_type": "code",
        "colab": {
          "autoexec": {
            "startup": false,
            "wait_interval": 0
          }
        }
      },
      "cell_type": "code",
      "source": [
        "import csv\n",
        "\n",
        "count = 0\n",
        "\n",
        "'''\n",
        "  Load the csv file into a nested list \n",
        "'''\n",
        "with open(\"proj_two_data.csv\", 'r') as f:\n",
        "  reader = csv.reader(f)\n",
        "  file_data = list(reader)"
      ],
      "execution_count": 0,
      "outputs": []
    },
    {
      "metadata": {
        "id": "uwXPpjOddnKX",
        "colab_type": "text"
      },
      "cell_type": "markdown",
      "source": [
        "**3. Define function for analyzing the data**"
      ]
    },
    {
      "metadata": {
        "id": "W4x3DnYFhmnV",
        "colab_type": "code",
        "colab": {
          "autoexec": {
            "startup": false,
            "wait_interval": 0
          }
        }
      },
      "cell_type": "code",
      "source": [
        "def analyze_data(row_data):\n",
        "  \n",
        "  if row_data['flt3_allelic_ratio'] != 'Not Done' and float(row_data['flt3_allelic_ratio']) > 0.4:\n",
        "    row_data['riskcause']= 'flt3'\n",
        "    return 'high'\n",
        "  elif row_data['npm'] == 'Mutated':\n",
        "    row_data['riskcause']= 'npm'\n",
        "    return 'low'\n",
        "  elif row_data['down_syndrome'] == 1 and int(row_data['age']) >= 4:\n",
        "    row_data['riskcause']= 'down_syndrome'\n",
        "    return 'low'\n",
        "  elif row_data['abnormalities'] == '':\n",
        "    return 'standard'\n",
        "  else:\n",
        "    #row_data['riskcause']= 'abnormality in karyotype'\n",
        "    for sub_idx in range(len(row_data['abnormalities'])):\n",
        "      abnormality = row_data['abnormalities'][sub_idx]\n",
        "      if 'inv(16)' in abnormality:\n",
        "        row_data['riskcause']= 'inv(16)'\n",
        "        return 'low'\n",
        "      elif 't(8;21)' in abnormality:\n",
        "        row_data['riskcause']= 't(8;21)'\n",
        "        return 'low'\n",
        "      elif abnormality == '-7q':\n",
        "        row_data['riskcause']= '-7q'\n",
        "        return 'high'\n",
        "      elif abnormality == '-7':\n",
        "        row_data['riskcause']= '-7'\n",
        "        return 'high'\n",
        "      elif abnormality == '-5q':\n",
        "        row_data['riskcause']= '-5q'\n",
        "        return 'high'\n",
        "      elif abnormality == '-5':\n",
        "        row_data['riskcause']= '-5'\n",
        "        return 'high' \n",
        "      elif len(set(row_data['abnormalities'])) >= 4:\n",
        "        row_data['riskcause']= 'four abnormalities and higher'\n",
        "        return 'high' \n",
        "  row_data['riskcause']= 'not low not high'\n",
        "  return 'standard'"
      ],
      "execution_count": 0,
      "outputs": []
    },
    {
      "metadata": {
        "id": "0DC3wuk_YVrv",
        "colab_type": "text"
      },
      "cell_type": "markdown",
      "source": [
        "**4. Define function for processing the data**"
      ]
    },
    {
      "metadata": {
        "id": "4OWeAsAJYbBP",
        "colab_type": "code",
        "colab": {
          "autoexec": {
            "startup": false,
            "wait_interval": 0
          }
        }
      },
      "cell_type": "code",
      "source": [
        "def process_and_analyze_data(data):\n",
        "  processed_data = dict()\n",
        "  \n",
        "  for idx in range(1, len(data)):\n",
        "    row_data = dict()\n",
        "    \n",
        "    pieces = len(data[idx])\n",
        "    temp = [x.strip() for x in data[idx][0].split(',')]\n",
        "    temp[len(temp)-1] = temp[len(temp)-1].split('[')[0]\n",
        "    if len(temp) > 1:\n",
        "      row_data['abnormalities'] = temp[2:len(temp)]\n",
        "\n",
        "      row_data['npm'] = data[idx][pieces-1]\n",
        "      row_data['age'] = data[idx][pieces-2]\n",
        "      row_data['down_syndrome'] = data[idx][pieces-3]\n",
        "      row_data['flt3_allelic_ratio'] = data[idx][pieces-4]\n",
        "\n",
        "      row_data['risk'] = analyze_data(row_data)\n",
        "    else:\n",
        "      row_data['riskcause']= 'Chromosome row in Karyotype'\n",
        "      row_data['risk'] = 'no risk'\n",
        "    processed_data[idx] = row_data\n",
        "  \n",
        "  return processed_data\n"
      ],
      "execution_count": 0,
      "outputs": []
    },
    {
      "metadata": {
        "id": "e7xrkWM7hfTG",
        "colab_type": "text"
      },
      "cell_type": "markdown",
      "source": [
        "**5. Identify risk classification by running code for processing and analyzing the data **"
      ]
    },
    {
      "metadata": {
        "id": "eu2_FTszhwre",
        "colab_type": "code",
        "colab": {
          "autoexec": {
            "startup": false,
            "wait_interval": 0
          },
          "base_uri": "https://localhost:8080/",
          "height": 8585
        },
        "outputId": "9871d01d-b1e0-4ff3-d2ac-05eb18df6496",
        "executionInfo": {
          "status": "ok",
          "timestamp": 1532758494471,
          "user_tz": 240,
          "elapsed": 571,
          "user": {
            "displayName": "H Pimentel",
            "photoUrl": "//lh6.googleusercontent.com/-YCk_xKgRbn4/AAAAAAAAAAI/AAAAAAAAAAc/lIQpuICTR1c/s50-c-k-no/photo.jpg",
            "userId": "101239967649186834849"
          }
        }
      },
      "cell_type": "code",
      "source": [
        "processed_data = process_and_analyze_data(file_data)\n",
        "\n",
        "'''\n",
        "Print processed data\n",
        "'''\n",
        "\n",
        "#list containing all risks \n",
        "riskList = []\n",
        "riskCause = []\n",
        "\n",
        "for key, value in processed_data.items():\n",
        "  riskList.append(value['risk'])\n",
        "  riskCause.append(value['riskcause'])\n",
        "  print(key, value['risk'], value['riskcause'])\n"
      ],
      "execution_count": 5,
      "outputs": [
        {
          "output_type": "stream",
          "text": [
            "1 low t(8;21)\n",
            "2 low t(8;21)\n",
            "3 low inv(16)\n",
            "4 standard not low not high\n",
            "5 standard not low not high\n",
            "6 standard not low not high\n",
            "7 low t(8;21)\n",
            "8 high flt3\n",
            "9 low t(8;21)\n",
            "10 low t(8;21)\n",
            "11 standard not low not high\n",
            "12 low inv(16)\n",
            "13 standard not low not high\n",
            "14 high flt3\n",
            "15 standard not low not high\n",
            "16 low t(8;21)\n",
            "17 standard not low not high\n",
            "18 standard not low not high\n",
            "19 high four abnormalities and higher\n",
            "20 standard not low not high\n",
            "21 high four abnormalities and higher\n",
            "22 high flt3\n",
            "23 high flt3\n",
            "24 low inv(16)\n",
            "25 standard not low not high\n",
            "26 high four abnormalities and higher\n",
            "27 standard not low not high\n",
            "28 high four abnormalities and higher\n",
            "29 standard not low not high\n",
            "30 high four abnormalities and higher\n",
            "31 low inv(16)\n",
            "32 standard not low not high\n",
            "33 low inv(16)\n",
            "34 standard not low not high\n",
            "35 standard not low not high\n",
            "36 high four abnormalities and higher\n",
            "37 low t(8;21)\n",
            "38 low npm\n",
            "39 low t(8;21)\n",
            "40 standard not low not high\n",
            "41 standard not low not high\n",
            "42 high flt3\n",
            "43 high four abnormalities and higher\n",
            "44 standard not low not high\n",
            "45 high four abnormalities and higher\n",
            "46 standard not low not high\n",
            "47 low t(8;21)\n",
            "48 high flt3\n",
            "49 low inv(16)\n",
            "50 low inv(16)\n",
            "51 high flt3\n",
            "52 standard not low not high\n",
            "53 standard not low not high\n",
            "54 standard not low not high\n",
            "55 high flt3\n",
            "56 high four abnormalities and higher\n",
            "57 high four abnormalities and higher\n",
            "58 standard not low not high\n",
            "59 high flt3\n",
            "60 low t(8;21)\n",
            "61 low t(8;21)\n",
            "62 high four abnormalities and higher\n",
            "63 low inv(16)\n",
            "64 standard not low not high\n",
            "65 standard not low not high\n",
            "66 low t(8;21)\n",
            "67 high four abnormalities and higher\n",
            "68 standard not low not high\n",
            "69 low inv(16)\n",
            "70 standard not low not high\n",
            "71 standard not low not high\n",
            "72 standard not low not high\n",
            "73 high four abnormalities and higher\n",
            "74 low t(8;21)\n",
            "75 standard not low not high\n",
            "76 standard not low not high\n",
            "77 low npm\n",
            "78 standard not low not high\n",
            "79 standard not low not high\n",
            "80 standard not low not high\n",
            "81 high four abnormalities and higher\n",
            "82 low npm\n",
            "83 no risk Chromosome row in Karyotype\n",
            "84 low inv(16)\n",
            "85 standard not low not high\n",
            "86 high -7\n",
            "87 standard not low not high\n",
            "88 standard not low not high\n",
            "89 standard not low not high\n",
            "90 low inv(16)\n",
            "91 high flt3\n",
            "92 high four abnormalities and higher\n",
            "93 standard not low not high\n",
            "94 standard not low not high\n",
            "95 standard not low not high\n",
            "96 standard not low not high\n",
            "97 standard not low not high\n",
            "98 low t(8;21)\n",
            "99 high four abnormalities and higher\n",
            "100 high four abnormalities and higher\n",
            "101 standard not low not high\n",
            "102 standard not low not high\n",
            "103 standard not low not high\n",
            "104 standard not low not high\n",
            "105 high -7\n",
            "106 standard not low not high\n",
            "107 low t(8;21)\n",
            "108 standard not low not high\n",
            "109 high four abnormalities and higher\n",
            "110 low npm\n",
            "111 high four abnormalities and higher\n",
            "112 low t(8;21)\n",
            "113 standard not low not high\n",
            "114 high flt3\n",
            "115 standard not low not high\n",
            "116 standard not low not high\n",
            "117 high four abnormalities and higher\n",
            "118 high four abnormalities and higher\n",
            "119 standard not low not high\n",
            "120 high four abnormalities and higher\n",
            "121 standard not low not high\n",
            "122 standard not low not high\n",
            "123 standard not low not high\n",
            "124 high four abnormalities and higher\n",
            "125 standard not low not high\n",
            "126 low inv(16)\n",
            "127 standard not low not high\n",
            "128 low t(8;21)\n",
            "129 low t(8;21)\n",
            "130 standard not low not high\n",
            "131 low inv(16)\n",
            "132 high -7\n",
            "133 low t(8;21)\n",
            "134 high four abnormalities and higher\n",
            "135 high four abnormalities and higher\n",
            "136 low inv(16)\n",
            "137 low inv(16)\n",
            "138 high four abnormalities and higher\n",
            "139 low inv(16)\n",
            "140 standard not low not high\n",
            "141 low t(8;21)\n",
            "142 high flt3\n",
            "143 no risk Chromosome row in Karyotype\n",
            "144 high flt3\n",
            "145 low inv(16)\n",
            "146 low t(8;21)\n",
            "147 low t(8;21)\n",
            "148 high four abnormalities and higher\n",
            "149 standard not low not high\n",
            "150 standard not low not high\n",
            "151 standard not low not high\n",
            "152 high flt3\n",
            "153 high flt3\n",
            "154 standard not low not high\n",
            "155 low t(8;21)\n",
            "156 low npm\n",
            "157 standard not low not high\n",
            "158 low inv(16)\n",
            "159 standard not low not high\n",
            "160 high four abnormalities and higher\n",
            "161 standard not low not high\n",
            "162 high flt3\n",
            "163 high flt3\n",
            "164 standard not low not high\n",
            "165 standard not low not high\n",
            "166 standard not low not high\n",
            "167 standard not low not high\n",
            "168 low t(8;21)\n",
            "169 low t(8;21)\n",
            "170 low t(8;21)\n",
            "171 high flt3\n",
            "172 standard not low not high\n",
            "173 standard not low not high\n",
            "174 standard not low not high\n",
            "175 low t(8;21)\n",
            "176 standard not low not high\n",
            "177 high flt3\n",
            "178 high flt3\n",
            "179 low t(8;21)\n",
            "180 high four abnormalities and higher\n",
            "181 low t(8;21)\n",
            "182 standard not low not high\n",
            "183 standard not low not high\n",
            "184 standard not low not high\n",
            "185 high four abnormalities and higher\n",
            "186 high -7\n",
            "187 standard not low not high\n",
            "188 high four abnormalities and higher\n",
            "189 no risk Chromosome row in Karyotype\n",
            "190 standard not low not high\n",
            "191 standard not low not high\n",
            "192 low t(8;21)\n",
            "193 standard not low not high\n",
            "194 high four abnormalities and higher\n",
            "195 low t(8;21)\n",
            "196 low t(8;21)\n",
            "197 low npm\n",
            "198 standard not low not high\n",
            "199 standard not low not high\n",
            "200 standard not low not high\n",
            "201 standard not low not high\n",
            "202 high four abnormalities and higher\n",
            "203 high flt3\n",
            "204 standard not low not high\n",
            "205 high flt3\n",
            "206 low inv(16)\n",
            "207 high four abnormalities and higher\n",
            "208 standard not low not high\n",
            "209 low t(8;21)\n",
            "210 standard not low not high\n",
            "211 standard not low not high\n",
            "212 low t(8;21)\n",
            "213 standard not low not high\n",
            "214 no risk Chromosome row in Karyotype\n",
            "215 high flt3\n",
            "216 high four abnormalities and higher\n",
            "217 low inv(16)\n",
            "218 standard not low not high\n",
            "219 low t(8;21)\n",
            "220 high four abnormalities and higher\n",
            "221 low t(8;21)\n",
            "222 low t(8;21)\n",
            "223 high four abnormalities and higher\n",
            "224 high four abnormalities and higher\n",
            "225 standard not low not high\n",
            "226 high four abnormalities and higher\n",
            "227 standard not low not high\n",
            "228 standard not low not high\n",
            "229 high four abnormalities and higher\n",
            "230 low inv(16)\n",
            "231 standard not low not high\n",
            "232 high four abnormalities and higher\n",
            "233 standard not low not high\n",
            "234 high four abnormalities and higher\n",
            "235 low inv(16)\n",
            "236 standard not low not high\n",
            "237 high four abnormalities and higher\n",
            "238 low t(8;21)\n",
            "239 no risk Chromosome row in Karyotype\n",
            "240 low t(8;21)\n",
            "241 standard not low not high\n",
            "242 standard not low not high\n",
            "243 low t(8;21)\n",
            "244 high flt3\n",
            "245 high four abnormalities and higher\n",
            "246 high four abnormalities and higher\n",
            "247 standard not low not high\n",
            "248 low t(8;21)\n",
            "249 standard not low not high\n",
            "250 low t(8;21)\n",
            "251 low t(8;21)\n",
            "252 low inv(16)\n",
            "253 high four abnormalities and higher\n",
            "254 standard not low not high\n",
            "255 standard not low not high\n",
            "256 low npm\n",
            "257 standard not low not high\n",
            "258 standard not low not high\n",
            "259 standard not low not high\n",
            "260 standard not low not high\n",
            "261 high flt3\n",
            "262 high four abnormalities and higher\n",
            "263 high four abnormalities and higher\n",
            "264 standard not low not high\n",
            "265 high flt3\n",
            "266 standard not low not high\n",
            "267 standard not low not high\n",
            "268 standard not low not high\n",
            "269 low t(8;21)\n",
            "270 low t(8;21)\n",
            "271 high four abnormalities and higher\n",
            "272 standard not low not high\n",
            "273 standard not low not high\n",
            "274 low t(8;21)\n",
            "275 high four abnormalities and higher\n",
            "276 high four abnormalities and higher\n",
            "277 standard not low not high\n",
            "278 standard not low not high\n",
            "279 standard not low not high\n",
            "280 high flt3\n",
            "281 high four abnormalities and higher\n",
            "282 high flt3\n",
            "283 standard not low not high\n",
            "284 standard not low not high\n",
            "285 standard not low not high\n",
            "286 high four abnormalities and higher\n",
            "287 standard not low not high\n",
            "288 high flt3\n",
            "289 high flt3\n",
            "290 standard not low not high\n",
            "291 low npm\n",
            "292 standard not low not high\n",
            "293 standard not low not high\n",
            "294 standard not low not high\n",
            "295 standard not low not high\n",
            "296 standard not low not high\n",
            "297 low t(8;21)\n",
            "298 standard not low not high\n",
            "299 high flt3\n",
            "300 high flt3\n",
            "301 low t(8;21)\n",
            "302 standard not low not high\n",
            "303 low t(8;21)\n",
            "304 standard not low not high\n",
            "305 low t(8;21)\n",
            "306 standard not low not high\n",
            "307 low t(8;21)\n",
            "308 standard not low not high\n",
            "309 low inv(16)\n",
            "310 low t(8;21)\n",
            "311 high four abnormalities and higher\n",
            "312 high four abnormalities and higher\n",
            "313 low t(8;21)\n",
            "314 standard not low not high\n",
            "315 standard not low not high\n",
            "316 low t(8;21)\n",
            "317 standard not low not high\n",
            "318 standard not low not high\n",
            "319 standard not low not high\n",
            "320 standard not low not high\n",
            "321 low inv(16)\n",
            "322 high four abnormalities and higher\n",
            "323 standard not low not high\n",
            "324 low t(8;21)\n",
            "325 standard not low not high\n",
            "326 low t(8;21)\n",
            "327 standard not low not high\n",
            "328 standard not low not high\n",
            "329 high four abnormalities and higher\n",
            "330 low inv(16)\n",
            "331 high four abnormalities and higher\n",
            "332 high four abnormalities and higher\n",
            "333 low npm\n",
            "334 high flt3\n",
            "335 standard not low not high\n",
            "336 low t(8;21)\n",
            "337 low t(8;21)\n",
            "338 standard not low not high\n",
            "339 low inv(16)\n",
            "340 high four abnormalities and higher\n",
            "341 standard not low not high\n",
            "342 standard not low not high\n",
            "343 standard not low not high\n",
            "344 high four abnormalities and higher\n",
            "345 standard not low not high\n",
            "346 standard not low not high\n",
            "347 standard not low not high\n",
            "348 standard not low not high\n",
            "349 low t(8;21)\n",
            "350 high four abnormalities and higher\n",
            "351 high flt3\n",
            "352 standard not low not high\n",
            "353 standard not low not high\n",
            "354 high flt3\n",
            "355 standard not low not high\n",
            "356 standard not low not high\n",
            "357 standard not low not high\n",
            "358 standard not low not high\n",
            "359 low t(8;21)\n",
            "360 high four abnormalities and higher\n",
            "361 standard not low not high\n",
            "362 standard not low not high\n",
            "363 high flt3\n",
            "364 standard not low not high\n",
            "365 standard not low not high\n",
            "366 high four abnormalities and higher\n",
            "367 standard not low not high\n",
            "368 standard not low not high\n",
            "369 high flt3\n",
            "370 standard not low not high\n",
            "371 low t(8;21)\n",
            "372 high flt3\n",
            "373 standard not low not high\n",
            "374 standard not low not high\n",
            "375 low inv(16)\n",
            "376 standard not low not high\n",
            "377 standard not low not high\n",
            "378 standard not low not high\n",
            "379 standard not low not high\n",
            "380 standard not low not high\n",
            "381 standard not low not high\n",
            "382 standard not low not high\n",
            "383 high flt3\n",
            "384 low t(8;21)\n",
            "385 low inv(16)\n",
            "386 low inv(16)\n",
            "387 standard not low not high\n",
            "388 standard not low not high\n",
            "389 low inv(16)\n",
            "390 high four abnormalities and higher\n",
            "391 standard not low not high\n",
            "392 standard not low not high\n",
            "393 standard not low not high\n",
            "394 low t(8;21)\n",
            "395 low inv(16)\n",
            "396 low t(8;21)\n",
            "397 standard not low not high\n",
            "398 low t(8;21)\n",
            "399 standard not low not high\n",
            "400 standard not low not high\n",
            "401 low inv(16)\n",
            "402 low t(8;21)\n",
            "403 high four abnormalities and higher\n",
            "404 standard not low not high\n",
            "405 standard not low not high\n",
            "406 standard not low not high\n",
            "407 high flt3\n",
            "408 standard not low not high\n",
            "409 high four abnormalities and higher\n",
            "410 high four abnormalities and higher\n",
            "411 high four abnormalities and higher\n",
            "412 high four abnormalities and higher\n",
            "413 standard not low not high\n",
            "414 standard not low not high\n",
            "415 standard not low not high\n",
            "416 standard not low not high\n",
            "417 standard not low not high\n",
            "418 low t(8;21)\n",
            "419 high four abnormalities and higher\n",
            "420 high four abnormalities and higher\n",
            "421 standard not low not high\n",
            "422 high four abnormalities and higher\n",
            "423 high flt3\n",
            "424 standard not low not high\n",
            "425 high four abnormalities and higher\n",
            "426 low inv(16)\n",
            "427 standard not low not high\n",
            "428 standard not low not high\n",
            "429 high four abnormalities and higher\n",
            "430 standard not low not high\n",
            "431 low npm\n",
            "432 standard not low not high\n",
            "433 standard not low not high\n",
            "434 standard not low not high\n",
            "435 high four abnormalities and higher\n",
            "436 high four abnormalities and higher\n",
            "437 high four abnormalities and higher\n",
            "438 standard not low not high\n",
            "439 high four abnormalities and higher\n",
            "440 standard not low not high\n",
            "441 low inv(16)\n",
            "442 high four abnormalities and higher\n",
            "443 standard not low not high\n",
            "444 standard not low not high\n",
            "445 standard not low not high\n",
            "446 low npm\n",
            "447 standard not low not high\n",
            "448 high -7\n",
            "449 high four abnormalities and higher\n",
            "450 standard not low not high\n",
            "451 standard not low not high\n",
            "452 standard not low not high\n",
            "453 standard not low not high\n",
            "454 standard not low not high\n",
            "455 high four abnormalities and higher\n",
            "456 standard not low not high\n",
            "457 high four abnormalities and higher\n",
            "458 high -7\n",
            "459 standard not low not high\n",
            "460 high flt3\n",
            "461 low t(8;21)\n",
            "462 high four abnormalities and higher\n",
            "463 low t(8;21)\n",
            "464 low inv(16)\n",
            "465 standard not low not high\n",
            "466 high flt3\n",
            "467 low t(8;21)\n",
            "468 standard not low not high\n",
            "469 standard not low not high\n",
            "470 high -7\n",
            "471 standard not low not high\n",
            "472 standard not low not high\n",
            "473 standard not low not high\n",
            "474 low t(8;21)\n",
            "475 high flt3\n",
            "476 standard not low not high\n",
            "477 standard not low not high\n",
            "478 low inv(16)\n",
            "479 standard not low not high\n",
            "480 low t(8;21)\n",
            "481 standard not low not high\n",
            "482 standard not low not high\n",
            "483 standard not low not high\n",
            "484 standard not low not high\n",
            "485 low t(8;21)\n",
            "486 high -7\n",
            "487 standard not low not high\n",
            "488 low t(8;21)\n",
            "489 standard not low not high\n",
            "490 standard not low not high\n",
            "491 high four abnormalities and higher\n",
            "492 low inv(16)\n",
            "493 low npm\n",
            "494 low t(8;21)\n",
            "495 no risk Chromosome row in Karyotype\n",
            "496 standard not low not high\n",
            "497 low t(8;21)\n",
            "498 low t(8;21)\n",
            "499 standard not low not high\n",
            "500 high four abnormalities and higher\n",
            "501 high four abnormalities and higher\n",
            "502 low t(8;21)\n",
            "503 standard not low not high\n",
            "504 standard not low not high\n"
          ],
          "name": "stdout"
        }
      ]
    },
    {
      "metadata": {
        "id": "lqqPTUtTf2og",
        "colab_type": "text"
      },
      "cell_type": "markdown",
      "source": [
        "**6. Descriptive Statistics**"
      ]
    },
    {
      "metadata": {
        "id": "B-chryPSwOMt",
        "colab_type": "code",
        "colab": {
          "autoexec": {
            "startup": false,
            "wait_interval": 0
          },
          "base_uri": "https://localhost:8080/",
          "height": 170
        },
        "outputId": "29a250b2-488f-4f1b-b206-298cd10bbb66",
        "executionInfo": {
          "status": "ok",
          "timestamp": 1532758494835,
          "user_tz": 240,
          "elapsed": 327,
          "user": {
            "displayName": "H Pimentel",
            "photoUrl": "//lh6.googleusercontent.com/-YCk_xKgRbn4/AAAAAAAAAAI/AAAAAAAAAAc/lIQpuICTR1c/s50-c-k-no/photo.jpg",
            "userId": "101239967649186834849"
          }
        }
      },
      "cell_type": "code",
      "source": [
        "import pandas as pd \n",
        "df = pd.read_csv(\"proj_two_data.csv\")\n",
        "print(df.describe())"
      ],
      "execution_count": 6,
      "outputs": [
        {
          "output_type": "stream",
          "text": [
            "       Down syndrome         Age\n",
            "count     504.000000  504.000000\n",
            "mean        0.001984    7.406548\n",
            "std         0.044544    5.020865\n",
            "min         0.000000    0.100000\n",
            "25%         0.000000    2.800000\n",
            "50%         0.000000    6.500000\n",
            "75%         0.000000   11.700000\n",
            "max         1.000000   18.500000\n"
          ],
          "name": "stdout"
        }
      ]
    },
    {
      "metadata": {
        "id": "zbDRMU7LwQPw",
        "colab_type": "text"
      },
      "cell_type": "markdown",
      "source": [
        "**7. Finding the coorelation between the age and risk of patients**\n",
        "Motivated by https://stackoverflow.com/questions/44694228/how-to-check-for-correlation-among-continuous-and-categorical-variables-in-pytho"
      ]
    },
    {
      "metadata": {
        "id": "TdMfgrPWNCbm",
        "colab_type": "code",
        "colab": {
          "autoexec": {
            "startup": false,
            "wait_interval": 0
          },
          "base_uri": "https://localhost:8080/",
          "height": 102
        },
        "outputId": "5c2a6c88-46d0-4fdc-f8cc-f5295b70221d",
        "executionInfo": {
          "status": "ok",
          "timestamp": 1532758495322,
          "user_tz": 240,
          "elapsed": 422,
          "user": {
            "displayName": "H Pimentel",
            "photoUrl": "//lh6.googleusercontent.com/-YCk_xKgRbn4/AAAAAAAAAAI/AAAAAAAAAAc/lIQpuICTR1c/s50-c-k-no/photo.jpg",
            "userId": "101239967649186834849"
          }
        }
      },
      "cell_type": "code",
      "source": [
        "#Converting the dict type as dataframe \n",
        "import pandas as pd \n",
        "import numpy as np\n",
        "\n",
        "dataframe_data = pd.read_csv(\"proj_two_data.csv\")\n",
        "\n",
        "dataframe_data['risk'] = riskList\n",
        "\n",
        "dataframe_data = dataframe_data.drop('Karyotype', 1)\n",
        "\n",
        "dataframe_data = dataframe_data.drop('FLT3 Allelic Ratio', 1)\n",
        "dataframe_data = dataframe_data.drop('Down syndrome', 1)\n",
        "dataframe_data = dataframe_data.drop('Nucleophosmin (NPM)', 1)\n",
        "\n",
        "df_dummies = pd.get_dummies(dataframe_data['risk'])\n",
        "\n",
        "del df_dummies[df_dummies.columns[-1]]\n",
        "df_new = pd.concat([dataframe_data, df_dummies], axis=1)\n",
        "\n",
        "del df_new['risk']\n",
        "\n",
        "x = df_new.values\n",
        "\n",
        "correlation_matrix = np.corrcoef(x.T)\n",
        "print(\"Correlation matrix between Age, High, Low and Standard\")\n",
        "print(correlation_matrix)"
      ],
      "execution_count": 7,
      "outputs": [
        {
          "output_type": "stream",
          "text": [
            "Correlation matrix between Age, High, Low and Standard\n",
            "[[ 1.         -0.04116673  0.14318749 -0.0231208 ]\n",
            " [-0.04116673  1.         -0.36005764 -0.06773637]\n",
            " [ 0.14318749 -0.36005764  1.         -0.06404305]\n",
            " [-0.0231208  -0.06773637 -0.06404305  1.        ]]\n"
          ],
          "name": "stdout"
        }
      ]
    },
    {
      "metadata": {
        "id": "uC9gQMAH44Ce",
        "colab_type": "text"
      },
      "cell_type": "markdown",
      "source": [
        "**8. Visualizing Data**"
      ]
    },
    {
      "metadata": {
        "id": "zhQ3pyPuujjj",
        "colab_type": "code",
        "colab": {
          "autoexec": {
            "startup": false,
            "wait_interval": 0
          },
          "base_uri": "https://localhost:8080/",
          "height": 335
        },
        "outputId": "893e1ca9-50ff-4abd-b290-63ca81fb9fec",
        "executionInfo": {
          "status": "ok",
          "timestamp": 1532758495951,
          "user_tz": 240,
          "elapsed": 568,
          "user": {
            "displayName": "H Pimentel",
            "photoUrl": "//lh6.googleusercontent.com/-YCk_xKgRbn4/AAAAAAAAAAI/AAAAAAAAAAc/lIQpuICTR1c/s50-c-k-no/photo.jpg",
            "userId": "101239967649186834849"
          }
        }
      },
      "cell_type": "code",
      "source": [
        "%matplotlib inline\n",
        "import pandas as pd\n",
        "import matplotlib.pyplot as plt\n",
        "import numpy as np\n",
        "\n",
        "'''create the dataframe '''\n",
        "raw_data = {'risk': ['Age less than 10', 'Age greater than 10', ''],\n",
        "        'cause1': [4, 4, 0],\n",
        "        'cause2': [15, 29, 0],\n",
        "        'cause3': [72, 15, 0]}\n",
        "df = pd.DataFrame(raw_data, columns = ['risk', 'cause1', 'cause2', 'cause3'])\n",
        "\n",
        "# Setting the positions and width for the bars\n",
        "pos = list(range(len(df['cause1']))) \n",
        "width = 0.25 \n",
        "    \n",
        "# Plotting the bars\n",
        "fig, ax = plt.subplots(figsize=(10,5))\n",
        "\n",
        "# Create a bar with pre_score data,\n",
        "# in position pos,\n",
        "plt.bar(pos, \n",
        "        #using df['cause1'] data,\n",
        "        df['cause1'], \n",
        "        # of width\n",
        "        width, \n",
        "        # with alpha 0.5\n",
        "        alpha=0.5, \n",
        "        # with color\n",
        "        color='#EE3224', \n",
        "        # with label the first value in risk\n",
        "        label=df['risk'][0]) \n",
        "\n",
        "# Create a bar with mid_score data,\n",
        "# in position pos + some width buffer,\n",
        "plt.bar([p + width for p in pos], \n",
        "        #using df['cause2'] data,\n",
        "        df['cause2'],\n",
        "        # of width\n",
        "        width, \n",
        "        # with alpha 0.5\n",
        "        alpha=0.5, \n",
        "        # with color\n",
        "        color='#F78F1E', \n",
        "        # with label the second value in risk\n",
        "        label=df['risk'][1]) \n",
        "\n",
        "# Create a bar with post_score data,\n",
        "# in position pos + some width buffer,\n",
        "plt.bar([p + width*2 for p in pos], \n",
        "        #using df['cause3'] data,\n",
        "        df['cause3'], \n",
        "        # of width\n",
        "        width, \n",
        "        # with alpha 0.5\n",
        "        alpha=0.5, \n",
        "        # with color\n",
        "        color='#FFC222', \n",
        "        # with label the third value in risk\n",
        "        label=df['risk'][2]) \n",
        "\n",
        "# Set the y axis label\n",
        "ax.set_ylabel('Count')\n",
        "\n",
        "# Set the chart's title\n",
        "ax.set_title('Risk indicators for each age group less than 10 and greater than 10')\n",
        "\n",
        "# Set the position of the x ticks\n",
        "ax.set_xticks([p + 1.5 * width for p in pos])\n",
        "\n",
        "# Set the labels for the x ticks\n",
        "ax.set_xticklabels(df['risk'])\n",
        "\n",
        "# Setting the x-axis and y-axis limits\n",
        "plt.xlim(min(pos)-width, max(pos)+width*4)\n",
        "plt.ylim([0, max(df['cause1'] + df['cause2'] + df['cause3'])] )\n",
        "\n",
        "# Adding the legend and showing the plot\n",
        "plt.legend(['Indicator 1 [-7] ', 'Indicator 2 [flt3]', 'Indicator 3 [complex]'], loc='center')\n",
        "plt.grid()\n",
        "plt.show()"
      ],
      "execution_count": 8,
      "outputs": [
        {
          "output_type": "display_data",
          "data": {
            "image/png": "[encoded data removed]",
            "text/plain": [
              "<matplotlib.figure.Figure at 0x7f53db3b4d68>"
            ]
          },
          "metadata": {
            "tags": []
          }
        }
      ]
    },
    {
      "metadata": {
        "id": "TBpFydko75vN",
        "colab_type": "text"
      },
      "cell_type": "markdown",
      "source": [
        "**Age wise FLT high risk plot**"
      ]
    },
    {
      "metadata": {
        "id": "6n5x_s1274mX",
        "colab_type": "code",
        "colab": {
          "autoexec": {
            "startup": false,
            "wait_interval": 0
          },
          "base_uri": "https://localhost:8080/",
          "height": 452
        },
        "outputId": "03bb5568-0c82-4e9f-9905-1bfebc98cd91",
        "executionInfo": {
          "status": "ok",
          "timestamp": 1532758496488,
          "user_tz": 240,
          "elapsed": 463,
          "user": {
            "displayName": "H Pimentel",
            "photoUrl": "//lh6.googleusercontent.com/-YCk_xKgRbn4/AAAAAAAAAAI/AAAAAAAAAAc/lIQpuICTR1c/s50-c-k-no/photo.jpg",
            "userId": "101239967649186834849"
          }
        }
      },
      "cell_type": "code",
      "source": [
        "\"\"\"\n",
        "====================\n",
        "Horizontal bar chart\n",
        "====================\n",
        "\n",
        "This example showcases a simple horizontal bar chart.\n",
        "\"\"\"\n",
        "import matplotlib.pyplot as plt\n",
        "plt.rcdefaults()\n",
        "import numpy as np\n",
        "import matplotlib.pyplot as plt\n",
        "\n",
        "\n",
        "plt.rcdefaults()\n",
        "fig, ax = plt.subplots()\n",
        "\n",
        "# Example data\n",
        "people = ('<10', '>10')\n",
        "y_pos = np.arange(len(people))\n",
        "performance = (15, 29)\n",
        "error = np.random.rand(len(people))\n",
        "\n",
        "ax.barh(y_pos, performance, xerr=error, align='center',\n",
        "        color='#fbd5d2', ecolor='black')\n",
        "ax.set_yticks(y_pos)\n",
        "ax.set_yticklabels(people)\n",
        "ax.invert_yaxis()  # labels read top-to-bottom\n",
        "ax.set_ylabel('Age range')\n",
        "ax.set_title('FLT3 High risk with Higher age groups')\n",
        "\n",
        "plt.show()"
      ],
      "execution_count": 9,
      "outputs": [
        {
          "output_type": "display_data",
          "data": {
            "image/png": "[encoded data removed]",
            "text/plain": [
              "<matplotlib.figure.Figure at 0x7f53cc720908>"
            ]
          },
          "metadata": {
            "tags": []
          }
        }
      ]
    },
    {
      "metadata": {
        "id": "ooASxSxa5PKZ",
        "colab_type": "text"
      },
      "cell_type": "markdown",
      "source": [
        "**Code to download CSV from dataframe**"
      ]
    },
    {
      "metadata": {
        "id": "jbu0n9-QpvrI",
        "colab_type": "code",
        "colab": {
          "autoexec": {
            "startup": false,
            "wait_interval": 0
          }
        }
      },
      "cell_type": "code",
      "source": [
        "import pandas as pd \n",
        "#dataframe created from dict \n",
        "dataframe_data = pd.DataFrame.from_dict(processed_data)\n",
        "#dataframe_data.to_csv(processed_file, sep='\\t', encoding='utf-8')\n",
        "from google.colab import files\n",
        "\n",
        "dataframe_data.to_csv('df.csv')\n",
        "files.download('df.csv')"
      ],
      "execution_count": 0,
      "outputs": []
    }
  ]
}